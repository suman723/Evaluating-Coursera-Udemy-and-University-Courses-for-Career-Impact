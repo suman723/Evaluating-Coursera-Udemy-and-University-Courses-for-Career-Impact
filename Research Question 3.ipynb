{
 "cells": [
  {
   "cell_type": "code",
   "execution_count": 1,
   "metadata": {},
   "outputs": [],
   "source": [
    "import pandas as pd\n",
    "import seaborn as sns\n",
    "import matplotlib.pyplot as plt\n",
    "import matplotlib\n",
    "import numpy as np\n",
    "from yellowbrick.style import set_palette\n",
    "from scipy import stats\n",
    "import plotly.express as px"
   ]
  },
  {
   "cell_type": "code",
   "execution_count": 2,
   "metadata": {},
   "outputs": [
    {
     "data": {
      "text/html": [
       "<div>\n",
       "<style scoped>\n",
       "    .dataframe tbody tr th:only-of-type {\n",
       "        vertical-align: middle;\n",
       "    }\n",
       "\n",
       "    .dataframe tbody tr th {\n",
       "        vertical-align: top;\n",
       "    }\n",
       "\n",
       "    .dataframe thead th {\n",
       "        text-align: right;\n",
       "    }\n",
       "</style>\n",
       "<table border=\"1\" class=\"dataframe\">\n",
       "  <thead>\n",
       "    <tr style=\"text-align: right;\">\n",
       "      <th></th>\n",
       "      <th>course_id</th>\n",
       "      <th>price</th>\n",
       "      <th>num_subscribers</th>\n",
       "      <th>num_reviews</th>\n",
       "      <th>num_lectures</th>\n",
       "      <th>content_duration</th>\n",
       "    </tr>\n",
       "  </thead>\n",
       "  <tbody>\n",
       "    <tr>\n",
       "      <td>count</td>\n",
       "      <td>3.678000e+03</td>\n",
       "      <td>3678.000000</td>\n",
       "      <td>3678.000000</td>\n",
       "      <td>3678.000000</td>\n",
       "      <td>3678.000000</td>\n",
       "      <td>3678.000000</td>\n",
       "    </tr>\n",
       "    <tr>\n",
       "      <td>mean</td>\n",
       "      <td>6.759720e+05</td>\n",
       "      <td>66.049483</td>\n",
       "      <td>3197.150625</td>\n",
       "      <td>156.259108</td>\n",
       "      <td>40.108755</td>\n",
       "      <td>4.094517</td>\n",
       "    </tr>\n",
       "    <tr>\n",
       "      <td>std</td>\n",
       "      <td>3.432732e+05</td>\n",
       "      <td>61.005755</td>\n",
       "      <td>9504.117010</td>\n",
       "      <td>935.452044</td>\n",
       "      <td>50.383346</td>\n",
       "      <td>6.053840</td>\n",
       "    </tr>\n",
       "    <tr>\n",
       "      <td>min</td>\n",
       "      <td>8.324000e+03</td>\n",
       "      <td>0.000000</td>\n",
       "      <td>0.000000</td>\n",
       "      <td>0.000000</td>\n",
       "      <td>0.000000</td>\n",
       "      <td>0.000000</td>\n",
       "    </tr>\n",
       "    <tr>\n",
       "      <td>25%</td>\n",
       "      <td>4.076925e+05</td>\n",
       "      <td>20.000000</td>\n",
       "      <td>111.000000</td>\n",
       "      <td>4.000000</td>\n",
       "      <td>15.000000</td>\n",
       "      <td>1.000000</td>\n",
       "    </tr>\n",
       "    <tr>\n",
       "      <td>50%</td>\n",
       "      <td>6.879170e+05</td>\n",
       "      <td>45.000000</td>\n",
       "      <td>911.500000</td>\n",
       "      <td>18.000000</td>\n",
       "      <td>25.000000</td>\n",
       "      <td>2.000000</td>\n",
       "    </tr>\n",
       "    <tr>\n",
       "      <td>75%</td>\n",
       "      <td>9.613555e+05</td>\n",
       "      <td>95.000000</td>\n",
       "      <td>2546.000000</td>\n",
       "      <td>67.000000</td>\n",
       "      <td>45.750000</td>\n",
       "      <td>4.500000</td>\n",
       "    </tr>\n",
       "    <tr>\n",
       "      <td>max</td>\n",
       "      <td>1.282064e+06</td>\n",
       "      <td>200.000000</td>\n",
       "      <td>268923.000000</td>\n",
       "      <td>27445.000000</td>\n",
       "      <td>779.000000</td>\n",
       "      <td>78.500000</td>\n",
       "    </tr>\n",
       "  </tbody>\n",
       "</table>\n",
       "</div>"
      ],
      "text/plain": [
       "          course_id        price  num_subscribers   num_reviews  num_lectures  \\\n",
       "count  3.678000e+03  3678.000000      3678.000000   3678.000000   3678.000000   \n",
       "mean   6.759720e+05    66.049483      3197.150625    156.259108     40.108755   \n",
       "std    3.432732e+05    61.005755      9504.117010    935.452044     50.383346   \n",
       "min    8.324000e+03     0.000000         0.000000      0.000000      0.000000   \n",
       "25%    4.076925e+05    20.000000       111.000000      4.000000     15.000000   \n",
       "50%    6.879170e+05    45.000000       911.500000     18.000000     25.000000   \n",
       "75%    9.613555e+05    95.000000      2546.000000     67.000000     45.750000   \n",
       "max    1.282064e+06   200.000000    268923.000000  27445.000000    779.000000   \n",
       "\n",
       "       content_duration  \n",
       "count       3678.000000  \n",
       "mean           4.094517  \n",
       "std            6.053840  \n",
       "min            0.000000  \n",
       "25%            1.000000  \n",
       "50%            2.000000  \n",
       "75%            4.500000  \n",
       "max           78.500000  "
      ]
     },
     "execution_count": 2,
     "metadata": {},
     "output_type": "execute_result"
    }
   ],
   "source": [
    "df = pd.read_csv(r\"C:/Users/35383/Desktop/Online Courses/udemy_courses.csv\")\n",
    "df.describe()"
   ]
  },
  {
   "cell_type": "code",
   "execution_count": 29,
   "metadata": {},
   "outputs": [
    {
     "data": {
      "text/html": [
       "<div>\n",
       "<style scoped>\n",
       "    .dataframe tbody tr th:only-of-type {\n",
       "        vertical-align: middle;\n",
       "    }\n",
       "\n",
       "    .dataframe tbody tr th {\n",
       "        vertical-align: top;\n",
       "    }\n",
       "\n",
       "    .dataframe thead th {\n",
       "        text-align: right;\n",
       "    }\n",
       "</style>\n",
       "<table border=\"1\" class=\"dataframe\">\n",
       "  <thead>\n",
       "    <tr style=\"text-align: right;\">\n",
       "      <th></th>\n",
       "      <th>course_id</th>\n",
       "      <th>price</th>\n",
       "      <th>num_subscribers</th>\n",
       "      <th>num_reviews</th>\n",
       "      <th>num_lectures</th>\n",
       "      <th>content_duration</th>\n",
       "    </tr>\n",
       "  </thead>\n",
       "  <tbody>\n",
       "    <tr>\n",
       "      <td>count</td>\n",
       "      <td>50.000000</td>\n",
       "      <td>50.000000</td>\n",
       "      <td>50.000000</td>\n",
       "      <td>50.000000</td>\n",
       "      <td>50.000000</td>\n",
       "      <td>50.000000</td>\n",
       "    </tr>\n",
       "    <tr>\n",
       "      <td>mean</td>\n",
       "      <td>332482.800000</td>\n",
       "      <td>82.800000</td>\n",
       "      <td>64465.400000</td>\n",
       "      <td>4857.380000</td>\n",
       "      <td>95.460000</td>\n",
       "      <td>11.164000</td>\n",
       "    </tr>\n",
       "    <tr>\n",
       "      <td>std</td>\n",
       "      <td>285159.581871</td>\n",
       "      <td>88.945982</td>\n",
       "      <td>40239.808804</td>\n",
       "      <td>6063.119457</td>\n",
       "      <td>105.676482</td>\n",
       "      <td>12.114669</td>\n",
       "    </tr>\n",
       "    <tr>\n",
       "      <td>min</td>\n",
       "      <td>11174.000000</td>\n",
       "      <td>0.000000</td>\n",
       "      <td>31499.000000</td>\n",
       "      <td>217.000000</td>\n",
       "      <td>9.000000</td>\n",
       "      <td>0.700000</td>\n",
       "    </tr>\n",
       "    <tr>\n",
       "      <td>25%</td>\n",
       "      <td>52102.000000</td>\n",
       "      <td>0.000000</td>\n",
       "      <td>41929.750000</td>\n",
       "      <td>1041.250000</td>\n",
       "      <td>24.000000</td>\n",
       "      <td>3.125000</td>\n",
       "    </tr>\n",
       "    <tr>\n",
       "      <td>50%</td>\n",
       "      <td>292012.000000</td>\n",
       "      <td>40.000000</td>\n",
       "      <td>52554.000000</td>\n",
       "      <td>2596.500000</td>\n",
       "      <td>45.500000</td>\n",
       "      <td>6.250000</td>\n",
       "    </tr>\n",
       "    <tr>\n",
       "      <td>75%</td>\n",
       "      <td>574411.500000</td>\n",
       "      <td>193.750000</td>\n",
       "      <td>73065.500000</td>\n",
       "      <td>5858.000000</td>\n",
       "      <td>118.250000</td>\n",
       "      <td>12.375000</td>\n",
       "    </tr>\n",
       "    <tr>\n",
       "      <td>max</td>\n",
       "      <td>949282.000000</td>\n",
       "      <td>200.000000</td>\n",
       "      <td>268923.000000</td>\n",
       "      <td>27445.000000</td>\n",
       "      <td>362.000000</td>\n",
       "      <td>51.000000</td>\n",
       "    </tr>\n",
       "  </tbody>\n",
       "</table>\n",
       "</div>"
      ],
      "text/plain": [
       "           course_id       price  num_subscribers   num_reviews  num_lectures  \\\n",
       "count      50.000000   50.000000        50.000000     50.000000     50.000000   \n",
       "mean   332482.800000   82.800000     64465.400000   4857.380000     95.460000   \n",
       "std    285159.581871   88.945982     40239.808804   6063.119457    105.676482   \n",
       "min     11174.000000    0.000000     31499.000000    217.000000      9.000000   \n",
       "25%     52102.000000    0.000000     41929.750000   1041.250000     24.000000   \n",
       "50%    292012.000000   40.000000     52554.000000   2596.500000     45.500000   \n",
       "75%    574411.500000  193.750000     73065.500000   5858.000000    118.250000   \n",
       "max    949282.000000  200.000000    268923.000000  27445.000000    362.000000   \n",
       "\n",
       "       content_duration  \n",
       "count         50.000000  \n",
       "mean          11.164000  \n",
       "std           12.114669  \n",
       "min            0.700000  \n",
       "25%            3.125000  \n",
       "50%            6.250000  \n",
       "75%           12.375000  \n",
       "max           51.000000  "
      ]
     },
     "execution_count": 29,
     "metadata": {},
     "output_type": "execute_result"
    }
   ],
   "source": [
    "most_pop = df.nlargest(50,'num_subscribers')\n",
    "most_pop.describe()"
   ]
  },
  {
   "cell_type": "code",
   "execution_count": 4,
   "metadata": {},
   "outputs": [],
   "source": [
    "new_mostp = pd.DataFrame(most_pop.mean().to_dict(),index=[most_pop.index.values[-1]])\n",
    "new_p = pd.DataFrame(df.mean().to_dict(),index=[df.index.values[-1]])"
   ]
  },
  {
   "cell_type": "code",
   "execution_count": 5,
   "metadata": {},
   "outputs": [
    {
     "data": {
      "text/html": [
       "<div>\n",
       "<style scoped>\n",
       "    .dataframe tbody tr th:only-of-type {\n",
       "        vertical-align: middle;\n",
       "    }\n",
       "\n",
       "    .dataframe tbody tr th {\n",
       "        vertical-align: top;\n",
       "    }\n",
       "\n",
       "    .dataframe thead th {\n",
       "        text-align: right;\n",
       "    }\n",
       "</style>\n",
       "<table border=\"1\" class=\"dataframe\">\n",
       "  <thead>\n",
       "    <tr style=\"text-align: right;\">\n",
       "      <th></th>\n",
       "      <th>course_id</th>\n",
       "      <th>is_paid</th>\n",
       "      <th>price</th>\n",
       "      <th>num_subscribers</th>\n",
       "      <th>num_reviews</th>\n",
       "      <th>num_lectures</th>\n",
       "      <th>content_duration</th>\n",
       "    </tr>\n",
       "  </thead>\n",
       "  <tbody>\n",
       "    <tr>\n",
       "      <td>2814</td>\n",
       "      <td>332482.800000</td>\n",
       "      <td>0.540000</td>\n",
       "      <td>82.800000</td>\n",
       "      <td>64465.400000</td>\n",
       "      <td>4857.380000</td>\n",
       "      <td>95.460000</td>\n",
       "      <td>11.164000</td>\n",
       "    </tr>\n",
       "    <tr>\n",
       "      <td>3677</td>\n",
       "      <td>675971.963295</td>\n",
       "      <td>0.915715</td>\n",
       "      <td>66.049483</td>\n",
       "      <td>3197.150625</td>\n",
       "      <td>156.259108</td>\n",
       "      <td>40.108755</td>\n",
       "      <td>4.094517</td>\n",
       "    </tr>\n",
       "  </tbody>\n",
       "</table>\n",
       "</div>"
      ],
      "text/plain": [
       "          course_id   is_paid      price  num_subscribers  num_reviews  \\\n",
       "2814  332482.800000  0.540000  82.800000     64465.400000  4857.380000   \n",
       "3677  675971.963295  0.915715  66.049483      3197.150625   156.259108   \n",
       "\n",
       "      num_lectures  content_duration  \n",
       "2814     95.460000         11.164000  \n",
       "3677     40.108755          4.094517  "
      ]
     },
     "metadata": {},
     "output_type": "display_data"
    }
   ],
   "source": [
    "frames = [new_mostp, new_p] \n",
    "result = pd.concat(frames)\n",
    "display(result)"
   ]
  },
  {
   "cell_type": "code",
   "execution_count": 11,
   "metadata": {},
   "outputs": [],
   "source": [
    "subject = ['50 Most Popular', 'All Courses']\n",
    "result['subject'] = subject"
   ]
  },
  {
   "cell_type": "code",
   "execution_count": 13,
   "metadata": {},
   "outputs": [],
   "source": [
    "result1 = result.set_index(\"subject\")"
   ]
  },
  {
   "cell_type": "code",
   "execution_count": 24,
   "metadata": {},
   "outputs": [],
   "source": [
    "result_t = result1.T"
   ]
  },
  {
   "cell_type": "code",
   "execution_count": 27,
   "metadata": {},
   "outputs": [
    {
     "data": {
      "text/plain": [
       "Text(0, 0.5, 'Average Counts')"
      ]
     },
     "execution_count": 27,
     "metadata": {},
     "output_type": "execute_result"
    },
    {
     "data": {
      "image/png": "[encoded data removed]",
      "text/plain": [
       "<Figure size 864x432 with 1 Axes>"
      ]
     },
     "metadata": {
      "needs_background": "light"
     },
     "output_type": "display_data"
    }
   ],
   "source": [
    "matplotlib.style.use('bmh') \n",
    "result1.plot(y=[\"price\", \"num_lectures\", \"content_duration\"], kind=\"bar\", figsize=(12,6))\n",
    "plt.title(\"Comparison of Most Popular Courses vs All Courses\")\n",
    "plt.xticks(rotation=0, horizontalalignment=\"center\")\n",
    "plt.xlabel(\"Courses Grouped\")\n",
    "plt.ylabel(\"Average Counts\")"
   ]
  },
  {
   "cell_type": "code",
   "execution_count": null,
   "metadata": {},
   "outputs": [],
   "source": []
  }
 ],
 "metadata": {
  "kernelspec": {
   "display_name": "Python 3",
   "language": "python",
   "name": "python3"
  },
  "language_info": {
   "codemirror_mode": {
    "name": "ipython",
    "version": 3
   },
   "file_extension": ".py",
   "mimetype": "text/x-python",
   "name": "python",
   "nbconvert_exporter": "python",
   "pygments_lexer": "ipython3",
   "version": "3.7.4"
  }
 },
 "nbformat": 4,
 "nbformat_minor": 2
}
